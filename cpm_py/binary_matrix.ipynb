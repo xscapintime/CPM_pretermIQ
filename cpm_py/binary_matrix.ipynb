{
 "cells": [
  {
   "cell_type": "code",
   "execution_count": null,
   "metadata": {},
   "outputs": [],
   "source": [
    "import os, glob\n",
    "import numpy as np\n",
    "import pandas as pd\n",
    "import seaborn as sns\n",
    "import scipy as sp\n",
    "# from Funcs import *\n",
    "from cpmFunctions import *"
   ]
  },
  {
   "cell_type": "code",
   "execution_count": 2,
   "metadata": {},
   "outputs": [
    {
     "data": {
      "text/plain": [
       "array(['AP004', 'AP005', 'AP008', 'AP010', 'AP011', 'AP012', 'AP013',\n",
       "       'AP017', 'AP020', 'AP021', 'AP022', 'AP031', 'AP032', 'AP035',\n",
       "       'AP036', 'AP039', 'AP040', 'AP042', 'AP043', 'AP048', 'AP051',\n",
       "       'AP052', 'AP053', 'AP054', 'AP055', 'AP056', 'AP057', 'AP058',\n",
       "       'AP059', 'AP062', 'AP063', 'AP066', 'AP086', 'AP088', 'AP099',\n",
       "       'AP100', 'AP103', 'AP104', 'AP106', 'AP107', 'AP108', 'AP113',\n",
       "       'AP117', 'AP118', 'AP119', 'AP121', 'AP124', 'AP126', 'AP127',\n",
       "       'AP128', 'AP130', 'AP132', 'AP134', 'BIPP002', 'BIPP003',\n",
       "       'BIPP005', 'BIPP007', 'BIPP008', 'BIPP009', 'BIPP011', 'BIPP015',\n",
       "       'BIPP016', 'BIPP017', 'BIPP020', 'BIPP021', 'BIPP022', 'BIPP023',\n",
       "       'BIPP024', 'BIPP025', 'BIPP026', 'BIPP029', 'BIPP030', 'BIPP034',\n",
       "       'BIPP035', 'BIPP036', 'BIPP038', 'BIPP039', 'BIPP042', 'BIPP044',\n",
       "       'BIPP045', 'BIPP046', 'BIPP049'], dtype='<U7')"
      ]
     },
     "execution_count": 2,
     "metadata": {},
     "output_type": "execute_result"
    }
   ],
   "source": [
    "## FC files\n",
    "path = '../data/fc_individual/'\n",
    "file = glob.glob(os.path.join(path,'*.txt'))\n",
    "\n",
    "# get subject id\n",
    "subj_list = [ os.path.split(f)[1].replace('.fc.txt', '') for f in file ] # to get the subj id from file name\n",
    "subj_list = np.array(subj_list, dtype=str) # data structure conversion, list to arrary\n",
    "subj_list"
   ]
  },
  {
   "cell_type": "code",
   "execution_count": 3,
   "metadata": {},
   "outputs": [
    {
     "data": {
      "text/plain": [
       "(82, 69751)"
      ]
     },
     "execution_count": 3,
     "metadata": {},
     "output_type": "execute_result"
    }
   ],
   "source": [
    "# read in FC matrices\n",
    "path = '../data/fc_individual/'\n",
    "all_fc_data = read_in_matrices(subj_list, file_suffix=None, data_dir=Path(path))\n",
    "\n",
    "all_fc_data.shape\n",
    "# 82 subj, 69751 edges\n",
    "# edge number = n_nodes*(n_nodes-1)/2, 69751 in this case"
   ]
  },
  {
   "cell_type": "code",
   "execution_count": 4,
   "metadata": {},
   "outputs": [
    {
     "data": {
      "text/html": [
       "<div>\n",
       "<style scoped>\n",
       "    .dataframe tbody tr th:only-of-type {\n",
       "        vertical-align: middle;\n",
       "    }\n",
       "\n",
       "    .dataframe tbody tr th {\n",
       "        vertical-align: top;\n",
       "    }\n",
       "\n",
       "    .dataframe thead th {\n",
       "        text-align: right;\n",
       "    }\n",
       "</style>\n",
       "<table border=\"1\" class=\"dataframe\">\n",
       "  <thead>\n",
       "    <tr style=\"text-align: right;\">\n",
       "      <th></th>\n",
       "      <th>0</th>\n",
       "      <th>1</th>\n",
       "      <th>2</th>\n",
       "      <th>3</th>\n",
       "      <th>4</th>\n",
       "      <th>5</th>\n",
       "      <th>6</th>\n",
       "      <th>7</th>\n",
       "      <th>8</th>\n",
       "      <th>9</th>\n",
       "      <th>...</th>\n",
       "      <th>69741</th>\n",
       "      <th>69742</th>\n",
       "      <th>69743</th>\n",
       "      <th>69744</th>\n",
       "      <th>69745</th>\n",
       "      <th>69746</th>\n",
       "      <th>69747</th>\n",
       "      <th>69748</th>\n",
       "      <th>69749</th>\n",
       "      <th>69750</th>\n",
       "    </tr>\n",
       "  </thead>\n",
       "  <tbody>\n",
       "    <tr>\n",
       "      <th>AP004</th>\n",
       "      <td>0.589502</td>\n",
       "      <td>0.391531</td>\n",
       "      <td>0.744787</td>\n",
       "      <td>0.105008</td>\n",
       "      <td>-0.409532</td>\n",
       "      <td>-0.150604</td>\n",
       "      <td>0.580714</td>\n",
       "      <td>1.215954</td>\n",
       "      <td>0.350991</td>\n",
       "      <td>0.513298</td>\n",
       "      <td>...</td>\n",
       "      <td>0.283323</td>\n",
       "      <td>0.174020</td>\n",
       "      <td>0.015907</td>\n",
       "      <td>0.061645</td>\n",
       "      <td>-0.126262</td>\n",
       "      <td>0.078534</td>\n",
       "      <td>0.120290</td>\n",
       "      <td>0.059363</td>\n",
       "      <td>0.143467</td>\n",
       "      <td>0.681774</td>\n",
       "    </tr>\n",
       "    <tr>\n",
       "      <th>AP005</th>\n",
       "      <td>0.022247</td>\n",
       "      <td>0.602142</td>\n",
       "      <td>0.212879</td>\n",
       "      <td>0.021809</td>\n",
       "      <td>0.274204</td>\n",
       "      <td>-0.259140</td>\n",
       "      <td>0.288064</td>\n",
       "      <td>1.075386</td>\n",
       "      <td>0.049666</td>\n",
       "      <td>0.243955</td>\n",
       "      <td>...</td>\n",
       "      <td>0.096592</td>\n",
       "      <td>0.184416</td>\n",
       "      <td>0.040913</td>\n",
       "      <td>0.367595</td>\n",
       "      <td>-0.184455</td>\n",
       "      <td>0.212257</td>\n",
       "      <td>0.032364</td>\n",
       "      <td>0.059685</td>\n",
       "      <td>0.134932</td>\n",
       "      <td>0.393408</td>\n",
       "    </tr>\n",
       "    <tr>\n",
       "      <th>AP008</th>\n",
       "      <td>-0.230435</td>\n",
       "      <td>0.638050</td>\n",
       "      <td>0.691670</td>\n",
       "      <td>0.384615</td>\n",
       "      <td>0.799698</td>\n",
       "      <td>0.307928</td>\n",
       "      <td>0.750357</td>\n",
       "      <td>1.089931</td>\n",
       "      <td>-0.188571</td>\n",
       "      <td>0.839656</td>\n",
       "      <td>...</td>\n",
       "      <td>0.060743</td>\n",
       "      <td>0.156824</td>\n",
       "      <td>-0.153544</td>\n",
       "      <td>-0.270294</td>\n",
       "      <td>-0.606021</td>\n",
       "      <td>-0.641511</td>\n",
       "      <td>-0.096450</td>\n",
       "      <td>0.247250</td>\n",
       "      <td>-0.172145</td>\n",
       "      <td>1.009934</td>\n",
       "    </tr>\n",
       "    <tr>\n",
       "      <th>AP010</th>\n",
       "      <td>0.322194</td>\n",
       "      <td>0.189322</td>\n",
       "      <td>0.147343</td>\n",
       "      <td>0.375238</td>\n",
       "      <td>0.418908</td>\n",
       "      <td>-0.151681</td>\n",
       "      <td>0.657381</td>\n",
       "      <td>1.213646</td>\n",
       "      <td>0.125078</td>\n",
       "      <td>0.317274</td>\n",
       "      <td>...</td>\n",
       "      <td>0.319425</td>\n",
       "      <td>0.147441</td>\n",
       "      <td>-0.099329</td>\n",
       "      <td>-0.218560</td>\n",
       "      <td>0.132417</td>\n",
       "      <td>-0.214501</td>\n",
       "      <td>0.327319</td>\n",
       "      <td>0.129829</td>\n",
       "      <td>0.191228</td>\n",
       "      <td>0.522155</td>\n",
       "    </tr>\n",
       "    <tr>\n",
       "      <th>AP011</th>\n",
       "      <td>0.538108</td>\n",
       "      <td>0.615433</td>\n",
       "      <td>0.825074</td>\n",
       "      <td>0.337795</td>\n",
       "      <td>0.517183</td>\n",
       "      <td>0.149990</td>\n",
       "      <td>0.509944</td>\n",
       "      <td>0.644842</td>\n",
       "      <td>0.519686</td>\n",
       "      <td>0.400126</td>\n",
       "      <td>...</td>\n",
       "      <td>-0.073276</td>\n",
       "      <td>-0.096244</td>\n",
       "      <td>0.135203</td>\n",
       "      <td>0.127497</td>\n",
       "      <td>0.103744</td>\n",
       "      <td>0.009315</td>\n",
       "      <td>0.107196</td>\n",
       "      <td>0.189989</td>\n",
       "      <td>0.294300</td>\n",
       "      <td>0.472145</td>\n",
       "    </tr>\n",
       "  </tbody>\n",
       "</table>\n",
       "<p>5 rows × 69751 columns</p>\n",
       "</div>"
      ],
      "text/plain": [
       "          0         1         2         3         4         5         6      \\\n",
       "AP004  0.589502  0.391531  0.744787  0.105008 -0.409532 -0.150604  0.580714   \n",
       "AP005  0.022247  0.602142  0.212879  0.021809  0.274204 -0.259140  0.288064   \n",
       "AP008 -0.230435  0.638050  0.691670  0.384615  0.799698  0.307928  0.750357   \n",
       "AP010  0.322194  0.189322  0.147343  0.375238  0.418908 -0.151681  0.657381   \n",
       "AP011  0.538108  0.615433  0.825074  0.337795  0.517183  0.149990  0.509944   \n",
       "\n",
       "          7         8         9      ...     69741     69742     69743  \\\n",
       "AP004  1.215954  0.350991  0.513298  ...  0.283323  0.174020  0.015907   \n",
       "AP005  1.075386  0.049666  0.243955  ...  0.096592  0.184416  0.040913   \n",
       "AP008  1.089931 -0.188571  0.839656  ...  0.060743  0.156824 -0.153544   \n",
       "AP010  1.213646  0.125078  0.317274  ...  0.319425  0.147441 -0.099329   \n",
       "AP011  0.644842  0.519686  0.400126  ... -0.073276 -0.096244  0.135203   \n",
       "\n",
       "          69744     69745     69746     69747     69748     69749     69750  \n",
       "AP004  0.061645 -0.126262  0.078534  0.120290  0.059363  0.143467  0.681774  \n",
       "AP005  0.367595 -0.184455  0.212257  0.032364  0.059685  0.134932  0.393408  \n",
       "AP008 -0.270294 -0.606021 -0.641511 -0.096450  0.247250 -0.172145  1.009934  \n",
       "AP010 -0.218560  0.132417 -0.214501  0.327319  0.129829  0.191228  0.522155  \n",
       "AP011  0.127497  0.103744  0.009315  0.107196  0.189989  0.294300  0.472145  \n",
       "\n",
       "[5 rows x 69751 columns]"
      ]
     },
     "execution_count": 4,
     "metadata": {},
     "output_type": "execute_result"
    }
   ],
   "source": [
    "all_fc_data.head()"
   ]
  },
  {
   "cell_type": "markdown",
   "metadata": {},
   "source": [
    "### Get binary matrix in CPM"
   ]
  },
  {
   "cell_type": "code",
   "execution_count": 5,
   "metadata": {},
   "outputs": [
    {
     "data": {
      "text/plain": [
       "(82, 6)"
      ]
     },
     "execution_count": 5,
     "metadata": {},
     "output_type": "execute_result"
    }
   ],
   "source": [
    "\n",
    "## PCA data\n",
    "all_pca_data = pd.read_csv('../data/var6_8yo_sbj82_imp_pca.csv', index_col=0)\n",
    "all_pca_data.dtypes\n",
    "\n",
    "# filter\n",
    "pca_data = all_pca_data[all_pca_data.index.isin(subj_list)]\n",
    "pca_data.shape"
   ]
  },
  {
   "cell_type": "code",
   "execution_count": 6,
   "metadata": {},
   "outputs": [
    {
     "data": {
      "text/html": [
       "<div>\n",
       "<style scoped>\n",
       "    .dataframe tbody tr th:only-of-type {\n",
       "        vertical-align: middle;\n",
       "    }\n",
       "\n",
       "    .dataframe tbody tr th {\n",
       "        vertical-align: top;\n",
       "    }\n",
       "\n",
       "    .dataframe thead th {\n",
       "        text-align: right;\n",
       "    }\n",
       "</style>\n",
       "<table border=\"1\" class=\"dataframe\">\n",
       "  <thead>\n",
       "    <tr style=\"text-align: right;\">\n",
       "      <th></th>\n",
       "      <th>PC1</th>\n",
       "      <th>PC2</th>\n",
       "      <th>PC3</th>\n",
       "      <th>PC4</th>\n",
       "      <th>PC5</th>\n",
       "      <th>PC6</th>\n",
       "    </tr>\n",
       "  </thead>\n",
       "  <tbody>\n",
       "    <tr>\n",
       "      <th>AP004</th>\n",
       "      <td>-0.267872</td>\n",
       "      <td>-0.569413</td>\n",
       "      <td>-0.191704</td>\n",
       "      <td>-0.246434</td>\n",
       "      <td>-0.831273</td>\n",
       "      <td>-0.314136</td>\n",
       "    </tr>\n",
       "    <tr>\n",
       "      <th>AP005</th>\n",
       "      <td>-1.636895</td>\n",
       "      <td>-0.345104</td>\n",
       "      <td>0.914331</td>\n",
       "      <td>-0.277202</td>\n",
       "      <td>1.256553</td>\n",
       "      <td>-1.081958</td>\n",
       "    </tr>\n",
       "    <tr>\n",
       "      <th>AP008</th>\n",
       "      <td>1.409288</td>\n",
       "      <td>-1.967726</td>\n",
       "      <td>1.506612</td>\n",
       "      <td>-0.382402</td>\n",
       "      <td>-1.897989</td>\n",
       "      <td>-1.363728</td>\n",
       "    </tr>\n",
       "    <tr>\n",
       "      <th>AP010</th>\n",
       "      <td>-1.538489</td>\n",
       "      <td>0.282625</td>\n",
       "      <td>1.242431</td>\n",
       "      <td>0.489090</td>\n",
       "      <td>-0.194798</td>\n",
       "      <td>0.272000</td>\n",
       "    </tr>\n",
       "    <tr>\n",
       "      <th>AP011</th>\n",
       "      <td>-0.322119</td>\n",
       "      <td>0.234508</td>\n",
       "      <td>-0.211833</td>\n",
       "      <td>0.213974</td>\n",
       "      <td>-0.245438</td>\n",
       "      <td>0.335576</td>\n",
       "    </tr>\n",
       "    <tr>\n",
       "      <th>...</th>\n",
       "      <td>...</td>\n",
       "      <td>...</td>\n",
       "      <td>...</td>\n",
       "      <td>...</td>\n",
       "      <td>...</td>\n",
       "      <td>...</td>\n",
       "    </tr>\n",
       "    <tr>\n",
       "      <th>BIPP042</th>\n",
       "      <td>0.892790</td>\n",
       "      <td>-1.325742</td>\n",
       "      <td>-0.740638</td>\n",
       "      <td>-0.790490</td>\n",
       "      <td>-0.527635</td>\n",
       "      <td>0.031469</td>\n",
       "    </tr>\n",
       "    <tr>\n",
       "      <th>BIPP044</th>\n",
       "      <td>1.635038</td>\n",
       "      <td>0.086737</td>\n",
       "      <td>-0.547961</td>\n",
       "      <td>2.062205</td>\n",
       "      <td>0.736897</td>\n",
       "      <td>-0.072438</td>\n",
       "    </tr>\n",
       "    <tr>\n",
       "      <th>BIPP045</th>\n",
       "      <td>1.856773</td>\n",
       "      <td>-1.039891</td>\n",
       "      <td>-0.217883</td>\n",
       "      <td>-1.783808</td>\n",
       "      <td>-0.201552</td>\n",
       "      <td>-0.192351</td>\n",
       "    </tr>\n",
       "    <tr>\n",
       "      <th>BIPP046</th>\n",
       "      <td>-0.633813</td>\n",
       "      <td>-0.751122</td>\n",
       "      <td>0.666631</td>\n",
       "      <td>0.183440</td>\n",
       "      <td>0.725284</td>\n",
       "      <td>0.425441</td>\n",
       "    </tr>\n",
       "    <tr>\n",
       "      <th>BIPP049</th>\n",
       "      <td>-1.506433</td>\n",
       "      <td>-0.659196</td>\n",
       "      <td>0.028401</td>\n",
       "      <td>-0.420060</td>\n",
       "      <td>0.697801</td>\n",
       "      <td>0.708561</td>\n",
       "    </tr>\n",
       "  </tbody>\n",
       "</table>\n",
       "<p>82 rows × 6 columns</p>\n",
       "</div>"
      ],
      "text/plain": [
       "              PC1       PC2       PC3       PC4       PC5       PC6\n",
       "AP004   -0.267872 -0.569413 -0.191704 -0.246434 -0.831273 -0.314136\n",
       "AP005   -1.636895 -0.345104  0.914331 -0.277202  1.256553 -1.081958\n",
       "AP008    1.409288 -1.967726  1.506612 -0.382402 -1.897989 -1.363728\n",
       "AP010   -1.538489  0.282625  1.242431  0.489090 -0.194798  0.272000\n",
       "AP011   -0.322119  0.234508 -0.211833  0.213974 -0.245438  0.335576\n",
       "...           ...       ...       ...       ...       ...       ...\n",
       "BIPP042  0.892790 -1.325742 -0.740638 -0.790490 -0.527635  0.031469\n",
       "BIPP044  1.635038  0.086737 -0.547961  2.062205  0.736897 -0.072438\n",
       "BIPP045  1.856773 -1.039891 -0.217883 -1.783808 -0.201552 -0.192351\n",
       "BIPP046 -0.633813 -0.751122  0.666631  0.183440  0.725284  0.425441\n",
       "BIPP049 -1.506433 -0.659196  0.028401 -0.420060  0.697801  0.708561\n",
       "\n",
       "[82 rows x 6 columns]"
      ]
     },
     "execution_count": 6,
     "metadata": {},
     "output_type": "execute_result"
    }
   ],
   "source": [
    "pca_data"
   ]
  },
  {
   "cell_type": "code",
   "execution_count": 7,
   "metadata": {},
   "outputs": [
    {
     "name": "stdout",
     "output_type": "stream",
     "text": [
      "doing fold 0\n",
      "doing fold 1\n",
      "doing fold 2\n",
      "doing fold 3\n",
      "doing fold 4\n",
      "doing fold 5\n",
      "doing fold 6\n",
      "doing fold 7\n",
      "doing fold 8\n",
      "doing fold 9\n",
      "doing fold 10\n",
      "doing fold 11\n",
      "doing fold 12\n",
      "doing fold 13\n",
      "doing fold 14\n",
      "doing fold 15\n",
      "doing fold 16\n",
      "doing fold 17\n",
      "doing fold 18\n",
      "doing fold 19\n",
      "doing fold 20\n",
      "doing fold 21\n",
      "doing fold 22\n",
      "doing fold 23\n",
      "doing fold 24\n",
      "doing fold 25\n",
      "doing fold 26\n",
      "doing fold 27\n",
      "doing fold 28\n",
      "doing fold 29\n",
      "doing fold 30\n",
      "doing fold 31\n",
      "doing fold 32\n",
      "doing fold 33\n",
      "doing fold 34\n",
      "doing fold 35\n",
      "doing fold 36\n",
      "doing fold 37\n",
      "doing fold 38\n",
      "doing fold 39\n",
      "doing fold 40\n",
      "doing fold 41\n",
      "doing fold 42\n",
      "doing fold 43\n",
      "doing fold 44\n",
      "doing fold 45\n",
      "doing fold 46\n",
      "doing fold 47\n",
      "doing fold 48\n",
      "doing fold 49\n",
      "doing fold 50\n",
      "doing fold 51\n",
      "doing fold 52\n",
      "doing fold 53\n",
      "doing fold 54\n",
      "doing fold 55\n",
      "doing fold 56\n",
      "doing fold 57\n",
      "doing fold 58\n",
      "doing fold 59\n",
      "doing fold 60\n",
      "doing fold 61\n",
      "doing fold 62\n",
      "doing fold 63\n",
      "doing fold 64\n",
      "doing fold 65\n",
      "doing fold 66\n",
      "doing fold 67\n",
      "doing fold 68\n",
      "doing fold 69\n",
      "doing fold 70\n",
      "doing fold 71\n",
      "doing fold 72\n",
      "doing fold 73\n",
      "doing fold 74\n",
      "doing fold 75\n",
      "doing fold 76\n",
      "doing fold 77\n",
      "doing fold 78\n",
      "doing fold 79\n",
      "doing fold 80\n",
      "doing fold 81\n"
     ]
    }
   ],
   "source": [
    "# run CPM\n",
    "k = all_fc_data.shape[0]\n",
    "cpm_kwargs = {'r_thresh': 0.3, 'corr_type': 'pearson', 'verbose': False}\n",
    "\n",
    "\n",
    "behav_obs_pred, all_masks, corr = cpm_wrapper_seed(all_fc_data, pca_data, behav='PC1', k=k, seed=202209, **cpm_kwargs)"
   ]
  },
  {
   "cell_type": "code",
   "execution_count": 8,
   "metadata": {},
   "outputs": [
    {
     "data": {
      "text/plain": [
       "{'pos': array([[0., 0., 0., ..., 0., 0., 0.],\n",
       "        [0., 0., 0., ..., 0., 0., 0.],\n",
       "        [0., 0., 0., ..., 0., 0., 0.],\n",
       "        ...,\n",
       "        [0., 0., 0., ..., 0., 0., 0.],\n",
       "        [0., 0., 0., ..., 0., 0., 0.],\n",
       "        [0., 0., 0., ..., 0., 0., 0.]]),\n",
       " 'neg': array([[0., 0., 0., ..., 0., 0., 0.],\n",
       "        [0., 0., 0., ..., 0., 0., 0.],\n",
       "        [0., 0., 0., ..., 0., 0., 0.],\n",
       "        ...,\n",
       "        [0., 0., 0., ..., 0., 0., 0.],\n",
       "        [0., 0., 0., ..., 0., 0., 0.],\n",
       "        [0., 0., 0., ..., 0., 0., 0.]])}"
      ]
     },
     "execution_count": 8,
     "metadata": {},
     "output_type": "execute_result"
    }
   ],
   "source": [
    "# convert `all masks` to 374*374 matrix\n",
    "# `all masks` is a dictionary that has 2 keys and 2 items\n",
    "# will use one of them as an example\n",
    "\n",
    "all_masks # have a look, it's not binary yet"
   ]
  },
  {
   "cell_type": "code",
   "execution_count": 9,
   "metadata": {},
   "outputs": [
    {
     "data": {
      "text/plain": [
       "array([[0., 0., 0., ..., 0., 0., 0.],\n",
       "       [0., 0., 0., ..., 0., 0., 0.],\n",
       "       [0., 0., 0., ..., 0., 0., 0.],\n",
       "       ...,\n",
       "       [0., 0., 0., ..., 0., 0., 0.],\n",
       "       [0., 0., 0., ..., 0., 0., 0.],\n",
       "       [0., 0., 0., ..., 0., 0., 0.]])"
      ]
     },
     "execution_count": 9,
     "metadata": {},
     "output_type": "execute_result"
    }
   ],
   "source": [
    "all_masks['pos']"
   ]
  },
  {
   "cell_type": "code",
   "execution_count": 10,
   "metadata": {},
   "outputs": [
    {
     "name": "stdout",
     "output_type": "stream",
     "text": [
      "(82, 69751)\n"
     ]
    }
   ],
   "source": [
    "print(all_masks['pos'].shape)"
   ]
  },
  {
   "cell_type": "code",
   "execution_count": 72,
   "metadata": {},
   "outputs": [],
   "source": [
    "edge_frac = (all_masks['pos'].sum(axis=0))/(all_masks['pos'].shape[0])\n",
    "# all_masks['pos'].sum(axis=0), column sum\n",
    "# all_masks['pos'].shape[0], row number\n",
    "\n",
    "edge_frac_square = sp.spatial.distance.squareform(edge_frac) # Convert a vector-form distance vector to a square-form distance matrix"
   ]
  },
  {
   "cell_type": "code",
   "execution_count": 73,
   "metadata": {},
   "outputs": [
    {
     "data": {
      "text/plain": [
       "array([[0., 0., 0., ..., 0., 0., 0.],\n",
       "       [0., 0., 0., ..., 0., 0., 0.],\n",
       "       [0., 0., 0., ..., 0., 0., 0.],\n",
       "       ...,\n",
       "       [0., 0., 0., ..., 0., 0., 0.],\n",
       "       [0., 0., 0., ..., 0., 0., 0.],\n",
       "       [0., 0., 0., ..., 0., 0., 0.]])"
      ]
     },
     "execution_count": 73,
     "metadata": {},
     "output_type": "execute_result"
    }
   ],
   "source": [
    "edge_frac_square"
   ]
  },
  {
   "cell_type": "code",
   "execution_count": 74,
   "metadata": {},
   "outputs": [
    {
     "data": {
      "text/plain": [
       "(374, 374)"
      ]
     },
     "execution_count": 74,
     "metadata": {},
     "output_type": "execute_result"
    }
   ],
   "source": [
    "edge_frac_square.shape"
   ]
  },
  {
   "cell_type": "code",
   "execution_count": 58,
   "metadata": {},
   "outputs": [
    {
     "data": {
      "text/plain": [
       "(array([139106,    104,     54,     44,     16,     18,     24,     40,\n",
       "            80,    390]),\n",
       " array([0. , 0.1, 0.2, 0.3, 0.4, 0.5, 0.6, 0.7, 0.8, 0.9, 1. ]))"
      ]
     },
     "execution_count": 58,
     "metadata": {},
     "output_type": "execute_result"
    }
   ],
   "source": [
    "# ditstribution\n",
    "np.histogram(edge_frac_square)\n",
    "## now it's not binary, need a threshold to mask the matrix"
   ]
  },
  {
   "cell_type": "code",
   "execution_count": 17,
   "metadata": {},
   "outputs": [
    {
     "data": {
      "text/plain": [
       "<nilearn.plotting.displays._projectors.LZRYProjector at 0x7ff475967310>"
      ]
     },
     "execution_count": 17,
     "metadata": {},
     "output_type": "execute_result"
    },
    {
     "data": {
      "image/png": "[encoded data removed]",
      "text/plain": [
       "<Figure size 633.6x187.2 with 5 Axes>"
      ]
     },
     "metadata": {},
     "output_type": "display_data"
    }
   ],
   "source": [
    "## plot glasser\n",
    "node_coords = pd.read_csv(\"../data/coords/MMP_MNI_374_UCCHILD_coords.txt\", index_col=None, header=None, sep=\" \")\n",
    "\n",
    "thresh = 1\n",
    "\n",
    "node_mask = np.amax(edge_frac_square, axis=0) >= thresh # find nodes that have at least one edge that passes the threshold\n",
    "node_size = edge_frac_square.sum(axis=0)*node_mask*20 # size nodes based on how many suprathreshold edges they have\n",
    "## above two lines are from cpm author\n",
    "\n",
    "\n",
    "plot_connectome(adjacency_matrix=edge_frac_square, edge_threshold=thresh,\n",
    "                    node_color = 'red',\n",
    "                    node_coords=node_coords, node_size=node_size,\n",
    "                    display_mode= 'lzry',\n",
    "                    edge_kwargs={\"linewidth\": 1, 'color': 'red'})"
   ]
  },
  {
   "cell_type": "code",
   "execution_count": 77,
   "metadata": {},
   "outputs": [],
   "source": [
    "mat_mask = edge_frac_square >= thresh"
   ]
  },
  {
   "cell_type": "code",
   "execution_count": 83,
   "metadata": {},
   "outputs": [
    {
     "data": {
      "text/plain": [
       "(374, 374)"
      ]
     },
     "execution_count": 83,
     "metadata": {},
     "output_type": "execute_result"
    }
   ],
   "source": [
    "## to export the matrix\n",
    "# mask\n",
    "edge_frac_square[mat_mask] = 1\n",
    "edge_frac_square[~mat_mask] = 0\n",
    "\n",
    "edge_frac_square.shape"
   ]
  },
  {
   "cell_type": "code",
   "execution_count": 87,
   "metadata": {},
   "outputs": [
    {
     "data": {
      "text/plain": [
       "(array([139666,      0,      0,      0,      0,      0,      0,      0,\n",
       "             0,    210]),\n",
       " array([0. , 0.1, 0.2, 0.3, 0.4, 0.5, 0.6, 0.7, 0.8, 0.9, 1. ]))"
      ]
     },
     "execution_count": 87,
     "metadata": {},
     "output_type": "execute_result"
    }
   ],
   "source": [
    "np.histogram(edge_frac_square)"
   ]
  },
  {
   "cell_type": "code",
   "execution_count": 90,
   "metadata": {},
   "outputs": [],
   "source": [
    "## save it\n",
    "np.savetxt('pos_test_fmt.csv', edge_frac_square, delimiter=',', fmt='%d') "
   ]
  },
  {
   "cell_type": "markdown",
   "metadata": {},
   "source": [
    "### Get binary matrix without cpm\n",
    "\n",
    "We only need `all_masks` to get the binary matrices. So how CPM works doesn't matter, we just need to create a object has similar data structure with `all masks`.\n",
    "\n",
    "- load FC matrices with `read_in_matrices`, get `fc_df`\n",
    "    - dataframe with n rows and m columns (n=subj, m=edges)\n",
    "- whatever transformation\n",
    "- **KEY STEP**: get symmetric matrix\n",
    "    ```python\n",
    "        edge_frac = (fc_df.sum(axis=0))/(fc_df.shape[0]) # maybe need to convert to array\n",
    "        edge_frac_square = sp.spatial.distance.squareform(edge_frac) # Convert a vector-form distance vector to a square-form distance matrix\n",
    "    ```\n",
    "- mask: make it binary\n",
    "    - some as 0, some as 1"
   ]
  }
 ],
 "metadata": {
  "kernelspec": {
   "display_name": "Python 3.8.5 ('base')",
   "language": "python",
   "name": "python3"
  },
  "language_info": {
   "codemirror_mode": {
    "name": "ipython",
    "version": 3
   },
   "file_extension": ".py",
   "mimetype": "text/x-python",
   "name": "python",
   "nbconvert_exporter": "python",
   "pygments_lexer": "ipython3",
   "version": "3.8.5"
  },
  "orig_nbformat": 4,
  "vscode": {
   "interpreter": {
    "hash": "19859a9292772041135bf14610914363f5b53f5dbb9028196e5094c2bb9d5d2c"
   }
  }
 },
 "nbformat": 4,
 "nbformat_minor": 2
}
